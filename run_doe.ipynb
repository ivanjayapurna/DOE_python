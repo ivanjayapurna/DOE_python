{
 "cells": [
  {
   "cell_type": "code",
   "execution_count": 13,
   "metadata": {
    "collapsed": true
   },
   "outputs": [],
   "source": [
    "from pyDOE2 import lhs\n",
    "import matplotlib.pyplot as plt\n",
    "import numpy as np\n",
    "import pandas as pd"
   ]
  },
  {
   "cell_type": "code",
   "execution_count": 14,
   "metadata": {
    "collapsed": true
   },
   "outputs": [],
   "source": [
    "# =================================================================================================\n",
    "# Function for constructing a DataFrame from a matrix with floating point numbers between 0 and 1\n",
    "# =================================================================================================\n",
    "\n",
    "def construct_df_from_random_matrix(x,factor_array):\n",
    "    \"\"\"\n",
    "    This function constructs a DataFrame out of matrix x and factor_array, both of which are assumed to be numpy arrays.\n",
    "    It projects the numbers in the x (which is output of a design-of-experiment build) to the factor array ranges.\n",
    "    Here factor_array is assumed to have only min and max ranges.\n",
    "    Matrix x is assumed to have numbers ranging from 0 to 1 only.\n",
    "    \"\"\"\n",
    "    \n",
    "    row_num=x.shape[0] # Number of rows in the matrix x\n",
    "    col_num=x.shape[1] # Number of columns in the matrix x\n",
    "    \n",
    "    empty=np.zeros((row_num,col_num))  \n",
    "    \n",
    "    def simple_substitution(idx,factor_list):\n",
    "        alpha=np.abs(factor_list[1]-factor_list[0])\n",
    "        beta=idx\n",
    "        return factor_list[0]+(beta*alpha)\n",
    "        \n",
    "    for i in range(row_num):\n",
    "        for j in range(col_num):\n",
    "            empty[i,j] = simple_substitution(x[i,j],factor_array[j])\n",
    "        \n",
    "    return pd.DataFrame(data=empty)\n",
    "\n",
    "# ====================================================================================\n",
    "# Function for building simple Latin Hypercube from a dictionary of process variables\n",
    "# ====================================================================================\n",
    "\n",
    "def build_lhs(factor_level_ranges, num_samples=None, prob_distribution=None):\n",
    "    \"\"\"\n",
    "    Builds a Latin Hypercube design dataframe from a dictionary of factor/level ranges.\n",
    "    Only min and max values of the range are required.\n",
    "    Example of the dictionary:\n",
    "    {'Pressure':[50,70],'Temperature':[290, 350],'Flow rate':[0.9,1.0]}\n",
    "    num_samples: Number of samples to be generated\n",
    "    prob_distribution: Analytical probability distribution to be applied over the randomized sampling. \n",
    "    Takes strings like: 'Normal', 'Poisson', 'Exponential', 'Beta', 'Gamma'\n",
    "    Latin hypercube sampling (LHS) is a form of stratified sampling that can be applied to multiple variables. The method commonly used to reduce the number or runs necessary for a Monte Carlo simulation to achieve a reasonably accurate random distribution. LHS can be incorporated into an existing Monte Carlo model fairly easily, and work with variables following any analytical probability distribution.\n",
    "    \"\"\"\n",
    "    for key in factor_level_ranges:\n",
    "        if len(factor_level_ranges[key])!=2:\n",
    "            factor_level_ranges[key][1]=factor_level_ranges[key][-1]\n",
    "            factor_level_ranges[key]=factor_level_ranges[key][:2]\n",
    "            print(f\"{key} had more than two levels. Assigning the end point to the high level.\")\n",
    "    \n",
    "    factor_count=len(factor_level_ranges)\n",
    "    factor_lists=[]\n",
    "    \n",
    "    if num_samples==None:\n",
    "        num_samples=factor_count\n",
    "    \n",
    "    for key in factor_level_ranges:\n",
    "        factor_lists.append(factor_level_ranges[key])\n",
    "    \n",
    "    x = lhs(n=factor_count,samples=num_samples)\n",
    "    factor_lists=np.array(factor_lists)\n",
    "    \n",
    "    df = construct_df_from_random_matrix(x,factor_lists)\n",
    "    df.columns=factor_level_ranges.keys()\n",
    "    return df\n"
   ]
  },
  {
   "cell_type": "code",
   "execution_count": 15,
   "metadata": {
    "collapsed": true
   },
   "outputs": [],
   "source": [
    "DICT_VARS = {'Mw':[10000,50000],'MR TrFE':[0, 33],'MR CTFE':[0, 33],'BaTiO3 wt%':[0.2,0.8], 'particle size (nm)':[50,200]}\n",
    "NUM_SAMPLES = 10\n",
    "design = build_lhs(DICT_VARS, num_samples=NUM_SAMPLES)"
   ]
  },
  {
   "cell_type": "code",
   "execution_count": 16,
   "metadata": {},
   "outputs": [
    {
     "data": {
      "text/html": [
       "<div>\n",
       "<style scoped>\n",
       "    .dataframe tbody tr th:only-of-type {\n",
       "        vertical-align: middle;\n",
       "    }\n",
       "\n",
       "    .dataframe tbody tr th {\n",
       "        vertical-align: top;\n",
       "    }\n",
       "\n",
       "    .dataframe thead th {\n",
       "        text-align: right;\n",
       "    }\n",
       "</style>\n",
       "<table border=\"1\" class=\"dataframe\">\n",
       "  <thead>\n",
       "    <tr style=\"text-align: right;\">\n",
       "      <th></th>\n",
       "      <th>Mw</th>\n",
       "      <th>MR TrFE</th>\n",
       "      <th>MR CTFE</th>\n",
       "      <th>BaTiO3 wt%</th>\n",
       "      <th>particle size (nm)</th>\n",
       "    </tr>\n",
       "  </thead>\n",
       "  <tbody>\n",
       "    <tr>\n",
       "      <th>0</th>\n",
       "      <td>21745.0</td>\n",
       "      <td>15.0</td>\n",
       "      <td>16.0</td>\n",
       "      <td>0.53</td>\n",
       "      <td>50</td>\n",
       "    </tr>\n",
       "    <tr>\n",
       "      <th>1</th>\n",
       "      <td>34290.0</td>\n",
       "      <td>18.0</td>\n",
       "      <td>6.0</td>\n",
       "      <td>0.69</td>\n",
       "      <td>100</td>\n",
       "    </tr>\n",
       "    <tr>\n",
       "      <th>2</th>\n",
       "      <td>47141.0</td>\n",
       "      <td>23.0</td>\n",
       "      <td>32.0</td>\n",
       "      <td>0.40</td>\n",
       "      <td>100</td>\n",
       "    </tr>\n",
       "    <tr>\n",
       "      <th>3</th>\n",
       "      <td>17801.0</td>\n",
       "      <td>4.0</td>\n",
       "      <td>7.0</td>\n",
       "      <td>0.78</td>\n",
       "      <td>50</td>\n",
       "    </tr>\n",
       "    <tr>\n",
       "      <th>4</th>\n",
       "      <td>27435.0</td>\n",
       "      <td>9.0</td>\n",
       "      <td>26.0</td>\n",
       "      <td>0.30</td>\n",
       "      <td>200</td>\n",
       "    </tr>\n",
       "    <tr>\n",
       "      <th>5</th>\n",
       "      <td>44836.0</td>\n",
       "      <td>28.0</td>\n",
       "      <td>17.0</td>\n",
       "      <td>0.23</td>\n",
       "      <td>100</td>\n",
       "    </tr>\n",
       "    <tr>\n",
       "      <th>6</th>\n",
       "      <td>11549.0</td>\n",
       "      <td>3.0</td>\n",
       "      <td>11.0</td>\n",
       "      <td>0.37</td>\n",
       "      <td>50</td>\n",
       "    </tr>\n",
       "    <tr>\n",
       "      <th>7</th>\n",
       "      <td>41151.0</td>\n",
       "      <td>13.0</td>\n",
       "      <td>21.0</td>\n",
       "      <td>0.58</td>\n",
       "      <td>200</td>\n",
       "    </tr>\n",
       "    <tr>\n",
       "      <th>8</th>\n",
       "      <td>31761.0</td>\n",
       "      <td>20.0</td>\n",
       "      <td>2.0</td>\n",
       "      <td>0.65</td>\n",
       "      <td>200</td>\n",
       "    </tr>\n",
       "    <tr>\n",
       "      <th>9</th>\n",
       "      <td>22851.0</td>\n",
       "      <td>33.0</td>\n",
       "      <td>29.0</td>\n",
       "      <td>0.50</td>\n",
       "      <td>200</td>\n",
       "    </tr>\n",
       "  </tbody>\n",
       "</table>\n",
       "</div>"
      ],
      "text/plain": [
       "        Mw  MR TrFE  MR CTFE  BaTiO3 wt%  particle size (nm)\n",
       "0  21745.0     15.0     16.0        0.53                  50\n",
       "1  34290.0     18.0      6.0        0.69                 100\n",
       "2  47141.0     23.0     32.0        0.40                 100\n",
       "3  17801.0      4.0      7.0        0.78                  50\n",
       "4  27435.0      9.0     26.0        0.30                 200\n",
       "5  44836.0     28.0     17.0        0.23                 100\n",
       "6  11549.0      3.0     11.0        0.37                  50\n",
       "7  41151.0     13.0     21.0        0.58                 200\n",
       "8  31761.0     20.0      2.0        0.65                 200\n",
       "9  22851.0     33.0     29.0        0.50                 200"
      ]
     },
     "execution_count": 16,
     "metadata": {},
     "output_type": "execute_result"
    }
   ],
   "source": [
    "particle_size = []\n",
    "\n",
    "for ps in design['particle size (nm)']:\n",
    "    if ps < 90:\n",
    "        particle_size.append(50)\n",
    "    elif ps > 150:\n",
    "        particle_size.append(200)\n",
    "    else:\n",
    "        particle_size.append(100)\n",
    "\n",
    "design['Mw'] = np.round(design['Mw'],0)\n",
    "design['MR TrFE'] = np.round(design['MR TrFE'],0)\n",
    "design['MR CTFE'] = np.round(design['MR CTFE'],0)\n",
    "design['BaTiO3 wt%'] = np.round(design['BaTiO3 wt%'],2)\n",
    "design['particle size (nm)'] = particle_size\n",
    "\n",
    "design"
   ]
  },
  {
   "cell_type": "code",
   "execution_count": 19,
   "metadata": {},
   "outputs": [
    {
     "data": {
      "image/png": "[encoded data removed]",
      "text/plain": [
       "<matplotlib.figure.Figure at 0x112988e48>"
      ]
     },
     "metadata": {},
     "output_type": "display_data"
    },
    {
     "data": {
      "image/png": "[encoded data removed]",
      "text/plain": [
       "<matplotlib.figure.Figure at 0x112c30828>"
      ]
     },
     "metadata": {},
     "output_type": "display_data"
    }
   ],
   "source": [
    "plt.scatter(design['Mw'],design['MR CTFE'])\n",
    "plt.xlabel('Mw')\n",
    "plt.ylabel('MR CTFE')\n",
    "plt.show()\n",
    "\n",
    "plt.scatter(design['BaTiO3 wt%'],design['MR TrFE'])\n",
    "plt.xlabel('BaTiO3 wt%')\n",
    "plt.ylabel('MR TrFE')\n",
    "plt.show()"
   ]
  },
  {
   "cell_type": "code",
   "execution_count": null,
   "metadata": {
    "collapsed": true
   },
   "outputs": [],
   "source": []
  }
 ],
 "metadata": {
  "kernelspec": {
   "display_name": "Python 3",
   "language": "python",
   "name": "python3"
  },
  "language_info": {
   "codemirror_mode": {
    "name": "ipython",
    "version": 3
   },
   "file_extension": ".py",
   "mimetype": "text/x-python",
   "name": "python",
   "nbconvert_exporter": "python",
   "pygments_lexer": "ipython3",
   "version": "3.6.1"
  }
 },
 "nbformat": 4,
 "nbformat_minor": 2
}
